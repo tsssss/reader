{
 "cells": [
  {
   "cell_type": "code",
   "execution_count": null,
   "metadata": {},
   "outputs": [],
   "source": []
  },
  {
   "cell_type": "markdown",
   "metadata": {},
   "source": [
    "# The goal of the package.\n",
    "\n",
    "To hide technical details of loading data from different spacecraft/ground missions, we would simply want something like below:"
   ]
  },
  {
   "cell_type": "code",
   "execution_count": null,
   "metadata": {},
   "outputs": [],
   "source": [
    "from pyslib import read\n",
    "from mission import RBSP,OMNI\n",
    "\n",
    "time_range = ['2015-03-17','2015-03-19']\n",
    "e_var = read('efield', mission_info=[RBSP,'a'], time_range=time_range)\n",
    "dst_var = read('dst', mission_info=[OMNI], time_range=time_range)"
   ]
  },
  {
   "cell_type": "markdown",
   "metadata": {},
   "source": [
    "Or even better, to create an event and load data into it:"
   ]
  },
  {
   "cell_type": "code",
   "execution_count": null,
   "metadata": {},
   "outputs": [],
   "source": [
    "from reader import Event\n",
    "\n",
    "time_range = ['2015-03-17','2015-03-19']\n",
    "storm_event = Event(time_range)\n",
    "\n",
    "rbsp_sc = []\n",
    "rbsp_sc.append(storm_event.add_mission('rbsp','a'))\n",
    "rbsp_sc.append(storm_event.add_mission('rbsp','b'))\n",
    "phys_quants = ['orbit','bfield','efield','pflux']\n",
    "var_list = []\n",
    "for sc in rbsp_sc:\n",
    "    for phys_quant in phys_quants:\n",
    "        var_list.append(sc.read(phys_quant))\n",
    "print(var_list)\n",
    "\n",
    "\n",
    "\n",
    "themis_sc = []\n",
    "themis_sc.append(storm_event.add_mission('themis','a'))\n",
    "themis_sc.append(storm_event.add_mission('dmsp','f19'))"
   ]
  }
 ],
 "metadata": {
  "language_info": {
   "name": "python"
  }
 },
 "nbformat": 4,
 "nbformat_minor": 2
}
