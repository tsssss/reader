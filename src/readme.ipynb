{
 "cells": [
  {
   "cell_type": "markdown",
   "metadata": {},
   "source": [
    "# The goal of the package.\n",
    "\n",
    "To hide technical details of loading data from different spacecraft/ground missions, we would simply want something like below:"
   ]
  },
  {
   "cell_type": "code",
   "execution_count": null,
   "metadata": {},
   "outputs": [],
   "source": [
    "from model import Event\n",
    "\n",
    "time_range = ['2015-03-17','2015-03-19']\n",
    "reader = Event(time_range)\n",
    "e_var = reader.read('rbsp','efield',probe='a')\n",
    "dst_var = reader.read('omni','dst')"
   ]
  },
  {
   "cell_type": "markdown",
   "metadata": {},
   "source": [
    "The benefit is that we directly focus on the physical quantities, without worrying about the instrumental details. In other words, we can treat all mission/instrument uniformly, as demonstrated below:"
   ]
  },
  {
   "cell_type": "code",
   "execution_count": null,
   "metadata": {},
   "outputs": [],
   "source": [
    "time_range = ['2016-03-17','2016-03-19']\n",
    "storm_event = Event(time_range)\n",
    "\n",
    "phys_quants = ['orbit','bfield','efield']\n",
    "missions = ['rbsp','themis','goes','mms']\n",
    "var_list = []\n",
    "for mission in missions:\n",
    "    for probe in storm_event.get_available_probes(mission):\n",
    "        for phys_quant in phys_quants:\n",
    "            var_list.append(storm_event.read(mission, phys_quant, probe=probe))\n",
    "print(var_list)"
   ]
  }
 ],
 "metadata": {
  "language_info": {
   "name": "python"
  }
 },
 "nbformat": 4,
 "nbformat_minor": 2
}
